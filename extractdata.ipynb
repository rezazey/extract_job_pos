{
 "cells": [
  {
   "cell_type": "markdown",
   "id": "ff9cb249",
   "metadata": {},
   "source": [
    "Extract Data from jobvision.."
   ]
  },
  {
   "cell_type": "code",
   "execution_count": 21,
   "id": "78bb0041",
   "metadata": {},
   "outputs": [],
   "source": [
    "import pandas as pd\n",
    "import numpy as np\n",
    "\n",
    "from selenium import webdriver\n",
    "from selenium.webdriver.common.by import By\n",
    "from selenium.webdriver.support.ui import WebDriverWait\n",
    "from selenium.webdriver.support import expected_conditions as EC\n",
    "from datetime import datetime, timedelta\n",
    "import time\n",
    "from urllib.parse import urlparse, parse_qs"
   ]
  },
  {
   "cell_type": "code",
   "execution_count": 2,
   "id": "2b4b8ed3",
   "metadata": {},
   "outputs": [],
   "source": [
    "# service=Service(ChromeDriverManager().install())\n",
    "driver = webdriver.Chrome()\n",
    "base_url=\"https://jobvision.ir/jobs/category/data-science?page=\"\n"
   ]
  },
  {
   "cell_type": "code",
   "execution_count": null,
   "id": "6df9ccc3",
   "metadata": {},
   "outputs": [
    {
     "data": {
      "text/plain": [
       "8"
      ]
     },
     "execution_count": 27,
     "metadata": {},
     "output_type": "execute_result"
    }
   ],
   "source": [
    "jobs_list = []\n",
    "now = datetime.now()\n",
    "\n",
    "driver.get(base_url + \"1\")\n",
    "\n",
    "pages_btn = WebDriverWait(driver, 10).until(\n",
    "        EC.visibility_of_element_located((By.CLASS_NAME, \"pagination\"))\n",
    "    )\n",
    "\n",
    "btn_list = pages_btn.find_elements(By.XPATH, \"./*\")\n",
    "last_page = btn_list[-1]\n",
    "\n",
    "last_page.click()\n",
    "\n",
    "current_url = driver.current_url\n",
    "parsed_url = urlparse(current_url)\n",
    "query_params = parse_qs(parsed_url.query)\n",
    "pages = int(query_params.get('page')[0])\n",
    "\n",
    "\n",
    "for page in range(1, pages + 1):\n",
    "    url = base_url + str(page)\n",
    "    driver.get(url)\n",
    "\n",
    "    jobs = WebDriverWait(driver, 10).until(\n",
    "        EC.visibility_of_element_located((By.TAG_NAME, \"job-card-list\"))\n",
    "    )\n",
    "\n",
    "    jobs_element_list = jobs.find_elements(By.TAG_NAME, \"job-card\")\n",
    "\n",
    "    for job in jobs_element_list:\n",
    "\n",
    "        # Get information about job postings from post\n",
    "\n",
    "        title = job.find_element(By.CLASS_NAME, \"job-card-title\")\n",
    "\n",
    "        parent = title.find_element(By.XPATH, \"..\")\n",
    "        childs_list = parent.find_elements(By.XPATH, \"./*\")\n",
    "\n",
    "        company = childs_list[1]\n",
    "\n",
    "        job_info_element = childs_list[2]\n",
    "\n",
    "        if len(childs_list) == 5:\n",
    "            facility = childs_list[3].text\n",
    "        else:\n",
    "            facility = \"\"\n",
    "        shipping_time = childs_list[-1]\n",
    "\n",
    "        job_info_list = job_info_element.find_elements(By.TAG_NAME, \"span\")\n",
    "\n",
    "        if len(job_info_list) == 3:\n",
    "            region, _, salary = job_info_list\n",
    "            salary = salary.text\n",
    "        else:\n",
    "            region = job_info_list[0]\n",
    "            salary = \"an argumant\"\n",
    "\n",
    "        extractec_num = \"\".join(filter(lambda x: x.isnumeric(), shipping_time.text))\n",
    "        if extractec_num != \"\":\n",
    "            release_time = now - timedelta(days=int(extractec_num))\n",
    "        else:\n",
    "            release_time = now - timedelta(days=0)\n",
    "\n",
    "        # Go to any of the job position\n",
    "\n",
    "        title.click()\n",
    "\n",
    "        get_job_section = WebDriverWait(driver, 10).until(\n",
    "            EC.visibility_of_element_located((By.TAG_NAME, \"app-job-specification\"))\n",
    "        )\n",
    "\n",
    "        job_info_list = get_job_section.find_elements(By.CLASS_NAME, \"text-muted\")\n",
    "        working_hours, type_of_cooperation = job_info_list[:2]\n",
    "        try:\n",
    "            requirement_list = get_job_section.find_elements(By.TAG_NAME, \"app-tag\")\n",
    "            requirement_software_list = [i.text for i in requirement_list]\n",
    "        except:\n",
    "            requirement_software_list = []\n",
    "\n",
    "        jobs_list.append(\n",
    "            {\n",
    "                \"shippingDate\": release_time.date(),\n",
    "                \"title\": title.text,\n",
    "                \"company\": company.text,\n",
    "                \"salary\": salary,\n",
    "                \"province\": region.text,\n",
    "                \"workingHours\": working_hours.text,\n",
    "                \"typeOfCooperation\": type_of_cooperation.text,\n",
    "                \"facility\": facility,\n",
    "                \"tagList\": requirement_software_list,\n",
    "            }\n",
    "        )\n",
    "\n",
    "\n",
    "df = pd.DataFrame(jobs_list)"
   ]
  },
  {
   "cell_type": "code",
   "execution_count": 5,
   "id": "b03ce325",
   "metadata": {},
   "outputs": [],
   "source": [
    "df_copy = df\n",
    "\n",
    "\n",
    "df_copy.to_csv('job_data_optimized.csv', index=False)"
   ]
  }
 ],
 "metadata": {
  "kernelspec": {
   "display_name": "rezaze",
   "language": "python",
   "name": "python3"
  },
  "language_info": {
   "codemirror_mode": {
    "name": "ipython",
    "version": 3
   },
   "file_extension": ".py",
   "mimetype": "text/x-python",
   "name": "python",
   "nbconvert_exporter": "python",
   "pygments_lexer": "ipython3",
   "version": "3.12.7"
  }
 },
 "nbformat": 4,
 "nbformat_minor": 5
}
