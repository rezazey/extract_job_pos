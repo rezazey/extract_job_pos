{
 "cells": [
  {
   "cell_type": "markdown",
   "id": "ff9cb249",
   "metadata": {},
   "source": [
    "Extract Data from jobvision.."
   ]
  },
  {
   "cell_type": "code",
   "execution_count": 2,
   "id": "78bb0041",
   "metadata": {},
   "outputs": [],
   "source": [
    "import pandas as pd\n",
    "import numpy as np\n",
    "\n",
    "from selenium import webdriver\n",
    "from selenium.webdriver.common.by import By\n",
    "from selenium.webdriver.support.ui import WebDriverWait\n",
    "from selenium.webdriver.support import expected_conditions as EC\n",
    "from selenium.webdriver.chrome.options import Options\n",
    "from datetime import datetime, timedelta\n",
    "from urllib.parse import urlparse, parse_qs"
   ]
  },
  {
   "cell_type": "markdown",
   "id": "d0151ab9",
   "metadata": {},
   "source": [
    "functions"
   ]
  },
  {
   "cell_type": "code",
   "execution_count": 3,
   "id": "79632f33",
   "metadata": {},
   "outputs": [],
   "source": [
    "def get_info_from_site(pages, base_url, driver, start_from=1):\n",
    "    jobs_list = []\n",
    "    now = datetime.now()\n",
    "    empty_value_count = 0\n",
    "    for page in range(start_from, pages + 1):\n",
    "        try:\n",
    "            url = base_url + str(page)\n",
    "            driver.get(url)\n",
    "\n",
    "            jobs = WebDriverWait(driver, 15).until(\n",
    "                EC.visibility_of_element_located((By.TAG_NAME, \"job-card-list\"))\n",
    "            )\n",
    "\n",
    "            jobs_element_list = jobs.find_elements(By.TAG_NAME, \"job-card\")\n",
    "\n",
    "            try:\n",
    "                for job in jobs_element_list:\n",
    "\n",
    "                    # Get information about job postings from post\n",
    "\n",
    "                    title = job.find_element(By.CLASS_NAME, \"job-card-title\")\n",
    "\n",
    "                    parent = title.find_element(By.XPATH, \"..\")\n",
    "                    childs_list = parent.find_elements(By.XPATH, \"./*\")\n",
    "\n",
    "                    company = childs_list[1]\n",
    "\n",
    "                    job_info_element = childs_list[2]\n",
    "\n",
    "                    if len(childs_list) == 5:\n",
    "                        facility = childs_list[3].text\n",
    "                    else:\n",
    "                        facility = \"\"\n",
    "                    shipping_time = childs_list[-1]\n",
    "\n",
    "                    job_info_list = job_info_element.find_elements(By.TAG_NAME, \"span\")\n",
    "\n",
    "                    if len(job_info_list) == 3:\n",
    "                        region, _, salary = job_info_list\n",
    "                        salary = salary.text\n",
    "                    else:\n",
    "                        region = job_info_list[0]\n",
    "                        salary = \"\"\n",
    "\n",
    "                    extractec_num = \"\".join(\n",
    "                        filter(lambda x: x.isnumeric(), shipping_time.text)\n",
    "                    )\n",
    "                    if extractec_num != \"\":\n",
    "                        release_time = now - timedelta(days=int(extractec_num))\n",
    "                    else:\n",
    "                        release_time = now - timedelta(days=0)\n",
    "\n",
    "                    # Go to any of the job position\n",
    "\n",
    "                    title.click()\n",
    "\n",
    "                    get_job_section = WebDriverWait(driver, 10).until(\n",
    "                        EC.visibility_of_element_located(\n",
    "                            (By.TAG_NAME, \"app-job-specification\")\n",
    "                        )\n",
    "                    )\n",
    "\n",
    "                    job_info_list = get_job_section.find_elements(\n",
    "                        By.CLASS_NAME, \"text-muted\"\n",
    "                    )\n",
    "                    working_hours, type_of_cooperation = job_info_list[:2]\n",
    "                    try:\n",
    "                        requirement_list = get_job_section.find_elements(\n",
    "                            By.TAG_NAME, \"app-tag\"\n",
    "                        )\n",
    "                        requirement_software_list = [i.text for i in requirement_list]\n",
    "                    except:\n",
    "                        requirement_software_list = []\n",
    "\n",
    "                    jobs_list.append(\n",
    "                        {\n",
    "                            \"shippingDate\": release_time.date(),\n",
    "                            \"title\": title.text,\n",
    "                            \"company\": company.text,\n",
    "                            \"salary\": salary,\n",
    "                            \"province\": region.text,\n",
    "                            \"workingHours\": working_hours.text,\n",
    "                            \"typeOfCooperation\": type_of_cooperation.text,\n",
    "                            \"facility\": facility,\n",
    "                            \"tagList\": requirement_software_list,\n",
    "                        }\n",
    "                    )\n",
    "            except ValueError as e:\n",
    "                jobs_list.append(\n",
    "                    {\n",
    "                        \"shippingDate\": \"\",\n",
    "                        \"title\": \"\",\n",
    "                        \"company\": \"\",\n",
    "                        \"salary\": \"\",\n",
    "                        \"province\": \"\",\n",
    "                        \"workingHours\": \"\",\n",
    "                        \"typeOfCooperation\": \"\",\n",
    "                        \"facility\": \"\",\n",
    "                        \"tagList\": \"\",\n",
    "                    }\n",
    "                )\n",
    "                empty_value = empty_value + 1\n",
    "                if empty_value_count == 8000:\n",
    "                    print(e)\n",
    "\n",
    "        except:\n",
    "            current_url = driver.current_url\n",
    "            parsed_url = urlparse(current_url)\n",
    "            query_params = parse_qs(parsed_url.query)\n",
    "            current_page = int(query_params.get(\"page\")[0])\n",
    "            get_info_from_site(current_url, base_url, driver, current_page)\n",
    "\n",
    "    return jobs_list\n",
    "\n",
    "\n",
    "def find_last_page(base_url, driver):\n",
    "    driver.get(base_url + \"1\")\n",
    "\n",
    "    last_page = WebDriverWait(driver, 10).until(\n",
    "        EC.visibility_of_element_located((By.CLASS_NAME, \"pagination-last\"))\n",
    "    )\n",
    "\n",
    "    last_page.click()\n",
    "\n",
    "    current_url = driver.current_url\n",
    "    parsed_url = urlparse(current_url)\n",
    "    query_params = parse_qs(parsed_url.query)\n",
    "    pages = int(query_params.get(\"page\")[0])\n",
    "    return pages"
   ]
  },
  {
   "cell_type": "code",
   "execution_count": 5,
   "id": "6df9ccc3",
   "metadata": {},
   "outputs": [
    {
     "name": "stdout",
     "output_type": "stream",
     "text": [
      "1662\n"
     ]
    }
   ],
   "source": [
    "options = Options()\n",
    "# options.add_argument(\"--headless=new\")\n",
    "options.add_argument(\"--disable-gpu\")\n",
    "options.add_argument(\"--no-sandbox\")\n",
    "options.add_argument(\"--disable-dev-shm-usage\")\n",
    "driver = webdriver.Chrome(options=options)\n",
    "base_url = \"https://jobvision.ir/jobs?page=\"\n",
    "\n",
    "pages = find_last_page(base_url, driver)\n",
    "\n",
    "print(pages)\n",
    "\n",
    "# jobs_list = get_info_from_site(pages, base_url, driver)\n",
    "\n",
    "driver.quit()\n",
    "\n",
    "# df = pd.DataFrame(jobs_list)\n",
    "\n",
    "# df.to_csv(\"job_data_optimized.csv\", index=False)"
   ]
  },
  {
   "cell_type": "code",
   "execution_count": 8,
   "id": "3ed005f9",
   "metadata": {},
   "outputs": [
    {
     "data": {
      "text/plain": [
       "166.2"
      ]
     },
     "execution_count": 8,
     "metadata": {},
     "output_type": "execute_result"
    }
   ],
   "source": [
    "pages/10"
   ]
  }
 ],
 "metadata": {
  "kernelspec": {
   "display_name": "rezaze",
   "language": "python",
   "name": "python3"
  },
  "language_info": {
   "codemirror_mode": {
    "name": "ipython",
    "version": 3
   },
   "file_extension": ".py",
   "mimetype": "text/x-python",
   "name": "python",
   "nbconvert_exporter": "python",
   "pygments_lexer": "ipython3",
   "version": "3.12.7"
  }
 },
 "nbformat": 4,
 "nbformat_minor": 5
}
